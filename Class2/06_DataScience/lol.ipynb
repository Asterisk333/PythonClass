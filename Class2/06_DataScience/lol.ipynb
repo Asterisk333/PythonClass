{
 "cells": [
  {
   "cell_type": "code",
   "source": [
    "from matplotlib import pyplot as plt\n",
    "\n",
    "\n",
    "# Bereinigungsfunktion\n",
    "def clean_row(row):\n",
    "    try:\n",
    "        row[\"discounted_price\"] = float(row[\"discounted_price\"].replace(\"₹\", \"\").replace(\",\", \"\"))\n",
    "        row[\"actual_price\"] = float(row[\"actual_price\"].replace(\"₹\", \"\").replace(\",\", \"\"))\n",
    "        row[\"discount_percentage\"] = int(row[\"discount_percentage\"].replace(\"%\", \"\"))\n",
    "\n",
    "        # Prüfen, ob \"rating\" ein String ist, bevor .replace() genutzt wird\n",
    "        if isinstance(row[\"rating\"], str):\n",
    "            row[\"rating\"] = float(row[\"rating\"].replace(\"|\", \"\").strip())\n",
    "        else:\n",
    "            row[\"rating\"] = float(row[\"rating\"])  # Falls es bereits ein Float ist\n",
    "\n",
    "        row[\"rating_count\"] = int(row[\"rating_count\"].replace(\",\", \"\")) if pd.notnull(row[\"rating_count\"]) else 0\n",
    "        return row\n",
    "    except Exception as e:\n",
    "        print(f\"❌ Fehler in Zeile mit product_id {row.product_id}: {e}\")\n",
    "        print(row)  # Problematische Zeile ausgeben\n",
    "        return None\n",
    "\n",
    "\n",
    "# clean the whole data\n",
    "def clean_data(df):\n",
    "    if df.empty:\n",
    "         return \"Der DataFrame ist leer, keine Daten verfügbar.\"\n",
    "    return df.apply(clean_row, axis=1).dropna().reset_index(drop=True)\n"
   ],
   "metadata": {
    "collapsed": true
   },
   "id": "initial_id",
   "outputs": [],
   "execution_count": null
  },
  {
   "cell_type": "code",
   "source": [
    "import pandas as pd\n",
    "\n",
    "df = clean_data(pd.read_csv('amazon.csv'))\n",
    "\n",
    "\n",
    "def top_discounted_products(df):\n",
    "    # Ordered py percentage desc\n",
    "    df_sorted = df.sort_values(by=\"discount_percentage\", ascending=False)\n",
    "\n",
    "    # select top 10\n",
    "    df_top10 = df_sorted.head(10)\n",
    "\n",
    "    # return needed data\n",
    "    df_top10 = df_top10[[\"product_name\", \"actual_price\", \"discounted_price\", \"discount_percentage\"]]\n",
    "\n",
    "    return df_top10\n",
    "\n",
    "\n",
    "print(top_discounted_products(df))\n"
   ],
   "metadata": {
    "collapsed": false
   },
   "id": "e3de8b0869dc6881",
   "outputs": [],
   "execution_count": null
  },
  {
   "metadata": {},
   "cell_type": "code",
   "source": [
    "import pandas as pd\n",
    "\n",
    "# Daten bereinigen und einlesen\n",
    "df = clean_data(pd.read_csv('amazon.csv'))\n",
    "\n",
    "\n",
    "# Durchschnittliche Bewertung berechnen\n",
    "def average_rating(df):\n",
    "    return df[\"rating\"].mean(skipna=True)\n",
    "\n",
    "\n",
    "print(average_rating(df))"
   ],
   "id": "25ddf0f908774871",
   "outputs": [],
   "execution_count": null
  },
  {
   "metadata": {},
   "cell_type": "code",
   "source": [
    "import pandas as pd\n",
    "\n",
    "df = clean_data(pd.read_csv('amazon.csv'))\n",
    "\n",
    "def top_discounted_product(df):\n",
    "    data = df.sort_values(by=\"discount_percentage\", ascending=False).head(1)[[\"product_name\", \"actual_price\", \"discounted_price\", \"discount_percentage\"]].iloc[0]\n",
    "\n",
    "    # Ergebnis formatieren\n",
    "    return {\n",
    "        \"product_name\": data[\"product_name\"],\n",
    "        \"actual_price\": data[\"actual_price\"],\n",
    "        \"discounted_price\": data[\"discounted_price\"],\n",
    "        \"discount_percentage\": data[\"discount_percentage\"]\n",
    "    }\n",
    "\n",
    "\n",
    "print(top_discounted_product(df))\n"
   ],
   "id": "a60a69f3682a9c22",
   "outputs": [],
   "execution_count": null
  },
  {
   "metadata": {},
   "cell_type": "code",
   "source": [
    "import pandas as pd\n",
    "\n",
    "df = clean_data(pd.read_csv('amazon.csv'))\n",
    "\n",
    "def top_reviews(df):\n",
    "    # Produkt mit den meisten Bewertungen finden\n",
    "    top_product = df.loc[df[\"rating_count\"].idxmax()]  # Zeile mit maximalen Bewertungen\n",
    "\n",
    "    # Ergebnisse formatieren\n",
    "    return {\n",
    "        \"product_name\": top_product[\"product_name\"],\n",
    "        \"number_of_reviews\": top_product[\"rating_count\"],\n",
    "    }\n",
    "\n",
    "\n",
    "print(top_reviews(df))\n"
   ],
   "id": "123576ed030c5ba6",
   "outputs": [],
   "execution_count": null
  },
  {
   "metadata": {},
   "cell_type": "code",
   "source": [
    "import pandas as pd\n",
    "\n",
    "df = clean_data(pd.read_csv('amazon.csv'))\n",
    "\n",
    "bedingung = (df[\"rating_count\"] > 10) & (df[\"rating_count\"] < 20)\n",
    "ergebnisA = df.loc[bedingung, [\"product_id\", \"rating_count\"]]\n",
    "\n",
    "\n",
    "print(ergebnisA)\n"
   ],
   "id": "1c3a97c512358e4c",
   "outputs": [],
   "execution_count": null
  },
  {
   "metadata": {},
   "cell_type": "code",
   "source": [
    "import pandas as pd\n",
    "\n",
    "df = clean_data(pd.read_csv('amazon.csv'))\n",
    "\n",
    "bedingung = (df[\"rating\"] >= 4.0) & (df[\"discount_percentage\"] >= 50)\n",
    "ergebnis = df.loc[bedingung, [\"product_name\", \"discount_percentage\",  \"rating\"]]\n",
    "\n",
    "print(ergebnis)"
   ],
   "id": "ee9153eb31089a7f",
   "outputs": [],
   "execution_count": null
  },
  {
   "metadata": {},
   "cell_type": "code",
   "source": [
    "import pandas as pd\n",
    "\n",
    "df = clean_data(pd.read_csv('amazon.csv'))\n",
    "\n",
    "\n",
    "def most_reviewed_product(df):\n",
    "    # Produkt mit der höchsten Anzahl von Bewertungen holen\n",
    "    top_product = df.loc[df[\"rating_count\"].idxmax()]\n",
    "\n",
    "    # Ergebnis als Dictionary formatieren\n",
    "    return {\n",
    "        \"product_name\": top_product[\"product_name\"],\n",
    "        \"rating_count\": top_product[\"rating_count\"],\n",
    "        \"rating\": top_product[\"rating\"]\n",
    "    }\n",
    "\n",
    "\n",
    "# Formatierte Ausgabe\n",
    "result = most_reviewed_product(df)\n",
    "print(\"Produkt mit den meisten Bewertungen:\")\n",
    "print(result)"
   ],
   "id": "355ccf8747334ee7",
   "outputs": [],
   "execution_count": null
  },
  {
   "metadata": {},
   "cell_type": "code",
   "source": [
    "import pandas as pd\n",
    "\n",
    "df = clean_data(pd.read_csv('amazon.csv'))\n",
    "\n",
    "\n",
    "def most_category_products(df):\n",
    "    # Gruppiere nach Kategorie und zähle die Produktanzahl\n",
    "    category_counts = df.groupby(\"category\")[\"product_id\"].count()\n",
    "\n",
    "    # Ermittel die Kategorie mit der höchsten Anzahl von Produkten\n",
    "    top_category = category_counts.idxmax()\n",
    "    number_of_products = category_counts.max()\n",
    "\n",
    "    # Filtere den DataFrame für die Top-Kategorie\n",
    "    top_category_data = df[df[\"category\"] == top_category]\n",
    "\n",
    "    # Berechne die durchschnittliche Bewertung und den Rabattanteil\n",
    "    average_rating = top_category_data[\"rating\"].mean(skipna=True)\n",
    "    average_discount = top_category_data[\"discount_percentage\"].mean(skipna=True)\n",
    "\n",
    "    # Rückgabe der Ergebnisse\n",
    "    return {\n",
    "        \"category\": top_category,\n",
    "        \"number_of_products\": number_of_products,\n",
    "        \"average_rating\": average_rating,\n",
    "        \"average_discount\": average_discount\n",
    "    }\n",
    "\n",
    "\n",
    "print(most_category_products(df))"
   ],
   "id": "638fe601e03b0f22",
   "outputs": [],
   "execution_count": null
  },
  {
   "metadata": {},
   "cell_type": "code",
   "source": [
    "import pandas as pd\n",
    "import matplotlib.pyplot as plt\n",
    "\n",
    "df = clean_data(pd.read_csv('amazon.csv'))\n",
    "\n",
    "category_counts = df[\"category\"].value_counts()\n",
    "\n",
    "plt.figure(figsize=(12, 6))\n",
    "category_counts.plot(kind=\"bar\", color=\"lightblue\", edgecolor=\"black\")\n",
    "plt.title(\"Produktanzahl pro Kategorie\")\n",
    "plt.xlabel(\"Kategorien\")\n",
    "plt.ylabel(\"Anzahl der Produkte\")\n",
    "plt.xticks(rotation=45, ha=\"right\")\n",
    "plt.tight_layout()\n",
    "plt.show()"
   ],
   "id": "d7d09756c67d12ee",
   "outputs": [],
   "execution_count": null
  },
  {
   "metadata": {},
   "cell_type": "code",
   "source": [
    "import pandas as pd\n",
    "import matplotlib.pyplot as plt\n",
    "\n",
    "df = clean_data(pd.read_csv('amazon.csv'))\n",
    "\n",
    "category_counts = df.groupby(\"category\")[\"product_id\"].count().sort_values(ascending=False)\n",
    "plt.figure(figsize=(12, 8))\n",
    "category_counts.plot(kind=\"bar\", color=\"skyblue\", edgecolor=\"black\")\n",
    "plt.title(\"Produktverteilung nach Kategorien\")\n",
    "plt.xlabel(\"Kategorie\")\n",
    "plt.ylabel(\"Anzahl der Produkte\")\n",
    "plt.xticks(rotation=45, ha=\"right\")\n",
    "plt.tight_layout()\n",
    "plt.show()\n"
   ],
   "id": "222709d960a6a6fc",
   "outputs": [],
   "execution_count": null
  },
  {
   "metadata": {},
   "cell_type": "code",
   "source": [
    "import pandas as pd\n",
    "\n",
    "df = clean_data(pd.read_csv('amazon.csv'))\n",
    "\n",
    "\n",
    "def top_discounted_products(df):\n",
    "    df[\"discount\"] = df[\"actual_price\"] - df[\"discounted_price\"]\n",
    "     # Auswahl der Top-10 Produkte\n",
    "    top_10 = df.sort_values(by=\"discount\", ascending=False).head(10)\n",
    "\n",
    "    # Rückgabe als Liste von Dictionaries (besseres Format)\n",
    "    return top_10[[\"product_name\", \"category\", \"actual_price\", \"discounted_price\", \"discount\"]].to_dict(\n",
    "        orient=\"records\")\n",
    "\n",
    "\n",
    "print(top_discounted_products(df))"
   ],
   "id": "114938d0c3bf6de0",
   "outputs": [],
   "execution_count": null
  },
  {
   "metadata": {
    "ExecuteTime": {
     "end_time": "2025-01-30T12:24:54.077588Z",
     "start_time": "2025-01-30T12:24:54.059667Z"
    }
   },
   "cell_type": "code",
   "source": [
    "def binary_search(arr, target):\n",
    "    left, right = 0, len(arr) - 1\n",
    "\n",
    "    while left <= right:\n",
    "        mid = (left + right) // 2\n",
    "\n",
    "        if arr[mid] == target:\n",
    "            return mid\n",
    "        elif arr[mid] < target:\n",
    "            left = mid + 1\n",
    "        else:\n",
    "            right = mid - 1\n",
    "\n",
    "    return -1\n",
    "\n",
    "# Example usage\n",
    "arr = [11, 3, 5, 7, 9, 1]\n",
    "target = 1\n",
    "result = binary_search(arr, target)\n",
    "print(\"Element found at index:\", result) if result != -1 else print(\"Element not found\")"
   ],
   "id": "391e619edd14e22f",
   "outputs": [
    {
     "name": "stdout",
     "output_type": "stream",
     "text": [
      "Element not found\n"
     ]
    }
   ],
   "execution_count": 72
  }
 ],
 "metadata": {
  "kernelspec": {
   "display_name": "Python 3",
   "language": "python",
   "name": "python3"
  },
  "language_info": {
   "codemirror_mode": {
    "name": "ipython",
    "version": 2
   },
   "file_extension": ".py",
   "mimetype": "text/x-python",
   "name": "python",
   "nbconvert_exporter": "python",
   "pygments_lexer": "ipython2",
   "version": "2.7.6"
  }
 },
 "nbformat": 4,
 "nbformat_minor": 5
}
