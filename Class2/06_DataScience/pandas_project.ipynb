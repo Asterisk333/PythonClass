{
 "cells": [
  {
   "metadata": {},
   "cell_type": "code",
   "source": [
    "import pandas as pd\n",
    "import numpy as np\n",
    "\n",
    "# Beispiel-CSV-Datei erstellen\n",
    "data = {\n",
    "    \"Datum\": pd.date_range(start=\"2023-01-01\", periods=100, freq=\"D\"),\n",
    "    \"Produkt\": [f\"Produkt {i % 10}\" for i in range(100)],\n",
    "    \"Kategorie\": [f\"Kategorie {i % 3}\" for i in range(100)],\n",
    "    \"Preis\": np.random.randint(5, 100, size=100),\n",
    "    \"Menge\": np.random.randint(1, 10, size=100),\n",
    "    \"Rabatt\": np.random.uniform(0, 0.3, size=100)\n",
    "}\n",
    "data[\"Gesamtumsatz\"] = data[\"Preis\"] * data[\"Menge\"] * (1 - data[\"Rabatt\"])\n",
    "df = pd.DataFrame(data)\n",
    "csv_file = \"verkaufsdaten.csv\"\n",
    "df.to_csv(csv_file, index=False)"
   ],
   "id": "76a2a1dd2c3bef44",
   "outputs": [],
   "execution_count": null
  },
  {
   "metadata": {},
   "cell_type": "code",
   "source": [
    "import pandas as pd\n",
    "import matplotlib.pyplot as plt\n",
    "\n",
    "# CSV-Datei einlesen\n",
    "sales_data = pd.read_csv(\"verkaufsdaten.csv\")\n",
    "\n",
    "# Datenbereinigung\n",
    "sales_data[\"Datum\"] = pd.to_datetime(sales_data[\"Datum\"])\n",
    "sales_data.fillna(0, inplace=True)\n",
    "\n",
    "# Gruppierung und KPI-Berechnungen\n",
    "umsatz_pro_kategorie = sales_data.groupby(\"Kategorie\")[\"Gesamtumsatz\"].sum()\n",
    "umsatz_pro_monat = sales_data.groupby(sales_data[\"Datum\"].dt.to_period(\"M\"))[\"Gesamtumsatz\"].sum()\n",
    "\n",
    "# Top-Produkte identifizieren\n",
    "top_produkte = sales_data.groupby(\"Produkt\")[\"Gesamtumsatz\"].sum().sort_values(ascending=False)\n",
    "\n",
    "# Umsatz nach Kategorie visualisieren\n",
    "umsatz_pro_kategorie.plot(kind=\"bar\", title=\"Umsatz pro Kategorie\", ylabel=\"Gesamtumsatz\", xlabel=\"Kategorie\", color=\"skyblue\")\n",
    "plt.tight_layout()\n",
    "plt.show()"
   ],
   "id": "ffd0b8ef0f856ea6",
   "outputs": [],
   "execution_count": null
  },
  {
   "metadata": {
    "ExecuteTime": {
     "end_time": "2025-01-30T12:46:52.845296Z",
     "start_time": "2025-01-30T12:46:52.522364Z"
    }
   },
   "cell_type": "code",
   "source": [
    "import pandas as pd\n",
    "import matplotlib.pyplot as plt\n",
    "\n",
    "# CSV-Datei laden\n",
    "projekt2_data = pd.read_csv(\"verkaufsdaten.csv\")\n",
    "projekt2_data[\"Datum\"] = pd.to_datetime(projekt2_data[\"Datum\"])\n",
    "\n",
    "# Gruppierung der Umsätze nach Produkt\n",
    "umsatz_pro_produkt = projekt2_data.groupby(\"Produkt\")[\"Gesamtumsatz\"].sum()\n",
    "\n",
    "# Balkendiagramm erstellen\n",
    "umsatz_pro_produkt.plot(kind=\"bar\", title=\"Umsatz pro Produkt\", ylabel=\"Gesamtumsatz\", xlabel=\"Produkt\", color=\"orange\")\n",
    "plt.tight_layout()\n",
    "plt.show()"
   ],
   "id": "9c5801bfbe9b777",
   "outputs": [
    {
     "data": {
      "text/plain": [
       "<Figure size 640x480 with 1 Axes>"
      ],
      "image/png": "[encoded data removed]"
     },
     "metadata": {},
     "output_type": "display_data"
    }
   ],
   "execution_count": 12
  },
  {
   "metadata": {
    "ExecuteTime": {
     "end_time": "2025-01-30T12:46:40.401192Z",
     "start_time": "2025-01-30T12:46:40.384887Z"
    }
   },
   "cell_type": "code",
   "source": [
    "from sklearn.preprocessing import LabelEncoder\n",
    "\n",
    "# Fehlende Werte behandeln\n",
    "projekt3_data = projekt2_data.copy()\n",
    "projekt3_data.fillna(0, inplace=True)\n",
    "\n",
    "# Daten filtern (z. B. nur Daten mit Gesamtumsatz > 1000)\n",
    "filtered_data = projekt3_data[projekt3_data[\"Gesamtumsatz\"] > 1000]\n",
    "\n",
    "# Kategorische Merkmale encodieren\n",
    "label_encoder = LabelEncoder()\n",
    "filtered_data[\"Produkt_Encoded\"] = label_encoder.fit_transform(filtered_data[\"Produkt\"])\n",
    "filtered_data[\"Kategorie_Encoded\"] = label_encoder.fit_transform(filtered_data[\"Kategorie\"])"
   ],
   "id": "533cefccf95dfa80",
   "outputs": [
    {
     "name": "stdout",
     "output_type": "stream",
     "text": [
      "Kategorische Merkmale:\n",
      "Empty DataFrame\n",
      "Columns: [Datum, Produkt, Kategorie, Preis, Menge, Rabatt, Gesamtumsatz, Produkt_Encoded, Kategorie_Encoded]\n",
      "Index: []\n"
     ]
    }
   ],
   "execution_count": 11
  }
 ],
 "metadata": {
  "kernelspec": {
   "display_name": "Python 3",
   "language": "python",
   "name": "python3"
  },
  "language_info": {
   "codemirror_mode": {
    "name": "ipython",
    "version": 2
   },
   "file_extension": ".py",
   "mimetype": "text/x-python",
   "name": "python",
   "nbconvert_exporter": "python",
   "pygments_lexer": "ipython2",
   "version": "2.7.6"
  }
 },
 "nbformat": 4,
 "nbformat_minor": 5
}
